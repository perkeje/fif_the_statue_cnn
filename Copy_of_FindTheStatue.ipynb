{
  "cells": [
    {
      "cell_type": "markdown",
      "metadata": {
        "id": "view-in-github",
        "colab_type": "text"
      },
      "source": [
        "<a href=\"https://colab.research.google.com/github/perkeje/fif_the_statue_cnn/blob/main/Copy_of_FindTheStatue.ipynb\" target=\"_parent\"><img src=\"https://colab.research.google.com/assets/colab-badge.svg\" alt=\"Open In Colab\"/></a>"
      ]
    },
    {
      "cell_type": "code",
      "execution_count": 1,
      "metadata": {
        "id": "enZAMANkOeDs",
        "colab": {
          "base_uri": "https://localhost:8080/"
        },
        "outputId": "759e3c25-fcaa-4a4a-8b03-6e96c0e612f4"
      },
      "outputs": [
        {
          "output_type": "stream",
          "name": "stdout",
          "text": [
            "--2022-08-07 08:26:10--  https://raw.githubusercontent.com/mrdbourke/tensorflow-deep-learning/main/extras/helper_functions.py\n",
            "Resolving raw.githubusercontent.com (raw.githubusercontent.com)... 185.199.108.133, 185.199.109.133, 185.199.110.133, ...\n",
            "Connecting to raw.githubusercontent.com (raw.githubusercontent.com)|185.199.108.133|:443... connected.\n",
            "HTTP request sent, awaiting response... 200 OK\n",
            "Length: 10246 (10K) [text/plain]\n",
            "Saving to: ‘helper_functions.py.1’\n",
            "\n",
            "helper_functions.py 100%[===================>]  10.01K  --.-KB/s    in 0s      \n",
            "\n",
            "2022-08-07 08:26:10 (34.0 MB/s) - ‘helper_functions.py.1’ saved [10246/10246]\n",
            "\n"
          ]
        }
      ],
      "source": [
        "import os\n",
        "import tensorflow as tf\n",
        "from tensorflow import keras\n",
        "\n",
        "!wget https://raw.githubusercontent.com/mrdbourke/tensorflow-deep-learning/main/extras/helper_functions.py\n"
      ]
    },
    {
      "cell_type": "code",
      "execution_count": 2,
      "metadata": {
        "id": "3cRlm-94qltB"
      },
      "outputs": [],
      "source": [
        "from helper_functions import load_and_prep_image,unzip_data,create_tensorboard_callback,plot_loss_curves, compare_historys"
      ]
    },
    {
      "cell_type": "code",
      "execution_count": 3,
      "metadata": {
        "id": "fCwZlFSUdJgh",
        "colab": {
          "base_uri": "https://localhost:8080/",
          "height": 35
        },
        "outputId": "74eb055b-441d-4bd4-9999-eb517c49f6e5"
      },
      "outputs": [
        {
          "output_type": "execute_result",
          "data": {
            "text/plain": [
              "'2.8.2'"
            ],
            "application/vnd.google.colaboratory.intrinsic+json": {
              "type": "string"
            }
          },
          "metadata": {},
          "execution_count": 3
        }
      ],
      "source": [
        "tf.version.VERSION"
      ]
    },
    {
      "cell_type": "code",
      "execution_count": 4,
      "metadata": {
        "id": "PpC6Dg47NgR9",
        "colab": {
          "base_uri": "https://localhost:8080/"
        },
        "outputId": "5ed3f295-7512-46d0-d49f-373c3a320798"
      },
      "outputs": [
        {
          "output_type": "stream",
          "name": "stdout",
          "text": [
            "There are 9 dirs and 0 images in our/content/drive/MyDrive/ZavrssniRad/train\n",
            "There are 0 dirs and 51 images in our/content/drive/MyDrive/ZavrssniRad/train/5\n",
            "There are 0 dirs and 41 images in our/content/drive/MyDrive/ZavrssniRad/train/6\n",
            "There are 0 dirs and 59 images in our/content/drive/MyDrive/ZavrssniRad/train/8\n",
            "There are 0 dirs and 37 images in our/content/drive/MyDrive/ZavrssniRad/train/0\n",
            "There are 0 dirs and 40 images in our/content/drive/MyDrive/ZavrssniRad/train/2\n",
            "There are 0 dirs and 44 images in our/content/drive/MyDrive/ZavrssniRad/train/3\n",
            "There are 0 dirs and 45 images in our/content/drive/MyDrive/ZavrssniRad/train/7\n",
            "There are 0 dirs and 60 images in our/content/drive/MyDrive/ZavrssniRad/train/1\n",
            "There are 0 dirs and 35 images in our/content/drive/MyDrive/ZavrssniRad/train/4\n"
          ]
        }
      ],
      "source": [
        "for dirpath, dirnames, filenames in os.walk(\"/content/drive/MyDrive/ZavrssniRad/train\"):\n",
        "  print(f\"There are {len(dirnames)} dirs and {len(filenames)} images in our{dirpath}\")"
      ]
    },
    {
      "cell_type": "code",
      "execution_count": 5,
      "metadata": {
        "id": "dW_9kRmrOGw2",
        "colab": {
          "base_uri": "https://localhost:8080/"
        },
        "outputId": "06c7d93c-961e-4647-ef01-fcd08910d464"
      },
      "outputs": [
        {
          "output_type": "stream",
          "name": "stdout",
          "text": [
            "Found 412 files belonging to 9 classes.\n",
            "Found 1018 files belonging to 9 classes.\n"
          ]
        }
      ],
      "source": [
        "from tensorflow.keras.preprocessing.image import ImageDataGenerator\n",
        "\n",
        "\n",
        "IMAGE_SHAPE = (256,256)\n",
        "BATCH_SIZE = 32\n",
        "\n",
        "# train_dir = \"/content/drive/MyDrive/ZavrssniRad/train\"\n",
        "# test_dir = \"/content/drive/MyDrive/ZavrssniRad/test\"\n",
        "# valid_dir =\"/content/drive/MyDrive/ZavrssniRad/test\"\n",
        "all_dir = \"/content/drive/MyDrive/ZavrssniRad/train\"\n",
        "test_dir = \"/content/drive/MyDrive/ZavrssniRad/test\"\n",
        "\n",
        "                         \n",
        "\n",
        "\n",
        "train_datagen = ImageDataGenerator(rescale=1/255.)\n",
        "test_datagen = ImageDataGenerator(rescale=1/255.)\n",
        "\n",
        "train_data = tf.keras.utils.image_dataset_from_directory(all_dir,\n",
        "                                              shuffle = True,\n",
        "                                              image_size=IMAGE_SHAPE,\n",
        "                                              batch_size=BATCH_SIZE,\n",
        "                                              label_mode=\"categorical\"\n",
        "                                              )\n",
        "\n",
        "test_data = tf.keras.utils.image_dataset_from_directory(test_dir,\n",
        "                                              shuffle = True,\n",
        "                                              image_size=IMAGE_SHAPE,\n",
        "                                              batch_size=BATCH_SIZE,\n",
        "                                              label_mode=\"categorical\"\n",
        ")\n",
        "\n",
        "# print(\"Training images: \")\n",
        "# train_data = train_datagen.flow_from_directory(train_dir,\n",
        "#                                               shuffle = True,\n",
        "#                                               target_size=IMAGE_SHAPE,\n",
        "#                                               batch_size=BATCH_SIZE,\n",
        "#                                               class_mode=\"categorical\")\n",
        "\n",
        "# print(\"Testing images: \")\n",
        "# test_data = test_datagen.flow_from_directory(test_dir,\n",
        "#                                             shuffle = True,\n",
        "#                                             target_size=IMAGE_SHAPE,\n",
        "#                                             batch_size=BATCH_SIZE,\n",
        "#                                             class_mode=\"categorical\")\n",
        "# print(\"Validation images: \")\n",
        "# valid_data = test_datagen.flow_from_directory(valid_dir,\n",
        "#                                             shuffle = True,\n",
        "#                                             target_size=IMAGE_SHAPE,\n",
        "#                                             batch_size=BATCH_SIZE,\n",
        "#                                             class_mode=\"categorical\")\n"
      ]
    },
    {
      "cell_type": "code",
      "execution_count": 6,
      "metadata": {
        "id": "juNqwOhORMve"
      },
      "outputs": [],
      "source": [
        "from tensorflow.keras import layers\n",
        "from tensorflow.keras.layers.experimental import preprocessing\n",
        "from tensorflow.keras.models import Sequential\n"
      ]
    },
    {
      "cell_type": "code",
      "execution_count": 7,
      "metadata": {
        "id": "a-F1KBgywq0u"
      },
      "outputs": [],
      "source": [
        "# import matplotlib.pyplot as plt\n",
        "\n",
        "# plt.figure(figsize=(10, 10))\n",
        "# class_names = train_data.class_names\n",
        "# for images, labels in train_data.take(1):\n",
        "#     for i in range(32):\n",
        "#         ax = plt.subplot(6, 6, i + 1)\n",
        "#         plt.imshow(images[i].numpy().astype(\"uint8\"))\n",
        "#         plt.axis(\"off\")\n",
        "\n"
      ]
    },
    {
      "cell_type": "code",
      "execution_count": 8,
      "metadata": {
        "id": "ekl9ytSjRRb9"
      },
      "outputs": [],
      "source": [
        "\n",
        "data_augmentation = Sequential([\n",
        "  preprocessing.Rescaling(1./255),\n",
        "  preprocessing.RandomZoom(0.2)\n",
        "], name=\"data_augmentation\")\n",
        "\n"
      ]
    },
    {
      "cell_type": "code",
      "execution_count": 9,
      "metadata": {
        "id": "raRF9AfXSTNT"
      },
      "outputs": [],
      "source": [
        "base_model = tf.keras.applications.VGG16(include_top=False)\n",
        "base_model.trainable=False\n",
        "inputs = layers.Input(shape=(256,256,3),name=\"input_layer\")\n",
        "x= data_augmentation(inputs)\n",
        "x= base_model(x,training=False)\n",
        "x = layers.GlobalAveragePooling2D(name=\"global_avg_pool_layer\")(x)\n",
        "outputs = layers.Dense(9,activation=\"softmax\")(x)\n",
        "model = tf.keras.Model(inputs,outputs)"
      ]
    },
    {
      "cell_type": "code",
      "execution_count": 10,
      "metadata": {
        "id": "UhUPhg-USn12",
        "colab": {
          "base_uri": "https://localhost:8080/"
        },
        "outputId": "2a41cb1a-72ea-4596-84ba-64da7a559ec2"
      },
      "outputs": [
        {
          "output_type": "stream",
          "name": "stdout",
          "text": [
            "Model: \"model\"\n",
            "_________________________________________________________________\n",
            " Layer (type)                Output Shape              Param #   \n",
            "=================================================================\n",
            " input_layer (InputLayer)    [(None, 256, 256, 3)]     0         \n",
            "                                                                 \n",
            " data_augmentation (Sequenti  (None, 256, 256, 3)      0         \n",
            " al)                                                             \n",
            "                                                                 \n",
            " vgg16 (Functional)          (None, None, None, 512)   14714688  \n",
            "                                                                 \n",
            " global_avg_pool_layer (Glob  (None, 512)              0         \n",
            " alAveragePooling2D)                                             \n",
            "                                                                 \n",
            " dense (Dense)               (None, 9)                 4617      \n",
            "                                                                 \n",
            "=================================================================\n",
            "Total params: 14,719,305\n",
            "Trainable params: 4,617\n",
            "Non-trainable params: 14,714,688\n",
            "_________________________________________________________________\n"
          ]
        }
      ],
      "source": [
        "model.summary()"
      ]
    },
    {
      "cell_type": "code",
      "execution_count": 11,
      "metadata": {
        "id": "sVfHrmNDS4VI"
      },
      "outputs": [],
      "source": [
        "# checkpoint_path=\"checkpoint_1\"\n",
        "# checkpoint_callback = tf.keras.callbacks.ModelCheckpoint(checkpoint_path,\n",
        "#                                                          save_weights_only=True,\n",
        "#                                                          monitor=\"val_accuracy\",\n",
        "#                                                          save_best_only=True)"
      ]
    },
    {
      "cell_type": "code",
      "execution_count": 12,
      "metadata": {
        "id": "yq5kZ4jISxT4"
      },
      "outputs": [],
      "source": [
        "# model.compile(loss=\"categorical_crossentropy\",\n",
        "#               optimizer=tf.keras.optimizers.Adam(),\n",
        "#               metrics=[\"accuracy\"])\n",
        "\n",
        "# history_1 =model.fit(train_data,\n",
        "#                      epochs=5, # fit for 5 epochs to keep experiments quick\n",
        "#                      steps_per_epoch= len(train_data),\n",
        "#                      validation_data=test_data,\n",
        "#                      validation_steps=int(.1*len(test_data)), # evaluate on smaller portion of test data\n",
        "#                      callbacks=[checkpoint_callback])"
      ]
    },
    {
      "cell_type": "code",
      "execution_count": 13,
      "metadata": {
        "id": "UnT9WNfSX66P"
      },
      "outputs": [],
      "source": [
        "# feature_extraction_model = model.evaluate(test_data)\n",
        "# feature_extraction_model"
      ]
    },
    {
      "cell_type": "code",
      "execution_count": 14,
      "metadata": {
        "id": "Z94qYTBZZHkw"
      },
      "outputs": [],
      "source": [
        "#plot_loss_curves(history_1)"
      ]
    },
    {
      "cell_type": "code",
      "execution_count": 15,
      "metadata": {
        "id": "SQiPRSDEZLAX"
      },
      "outputs": [],
      "source": [
        "base_model.trainable = True\n",
        "for layer in base_model.layers[:-15]:\n",
        "  layer.trainable = False\n",
        "  model.compile(loss='categorical_crossentropy',\n",
        "              optimizer=tf.keras.optimizers.Adam(), # 10x lower learning rate than default\n",
        "              metrics=['accuracy'])"
      ]
    },
    {
      "cell_type": "code",
      "execution_count": null,
      "metadata": {
        "colab": {
          "base_uri": "https://localhost:8080/"
        },
        "id": "DiRMddx0ZTjI",
        "outputId": "c5e8f211-98f2-4c9a-b81e-b21e59d26357"
      },
      "outputs": [
        {
          "output_type": "stream",
          "name": "stdout",
          "text": [
            "Epoch 1/8\n",
            "13/13 [==============================] - ETA: 0s - loss: 3.0231 - accuracy: 0.1214  "
          ]
        }
      ],
      "source": [
        "fine_tune_epochs = 8\n",
        "\n",
        "history_fine_tuned = model.fit(train_data,\n",
        "                     epochs=fine_tune_epochs,\n",
        "                     validation_data=test_data,\n",
        "                     validation_steps=int(.1*len(test_data)))\n",
        "                    #  initial_epoch=history_1.epoch[-1])"
      ]
    },
    {
      "cell_type": "code",
      "execution_count": null,
      "metadata": {
        "id": "9KblLPvNZw5b"
      },
      "outputs": [],
      "source": [
        "fine_tuned_model = model.evaluate(test_data)\n",
        "fine_tuned_model"
      ]
    },
    {
      "cell_type": "code",
      "execution_count": null,
      "metadata": {
        "id": "vvFv2A-_Z72x"
      },
      "outputs": [],
      "source": [
        "plot_loss_curves(history_fine_tuned)"
      ]
    },
    {
      "cell_type": "code",
      "execution_count": null,
      "metadata": {
        "id": "s_VPMdDjZ_wo"
      },
      "outputs": [],
      "source": [
        "# compare_historys(history_1,\n",
        "#                  history_fine_tuned,\n",
        "#                  5)"
      ]
    },
    {
      "cell_type": "code",
      "execution_count": null,
      "metadata": {
        "id": "yf_QzRDjOr6h"
      },
      "outputs": [],
      "source": [
        "model.evaluate(train_data)"
      ]
    },
    {
      "cell_type": "code",
      "execution_count": null,
      "metadata": {
        "id": "UPYpt10mpms1"
      },
      "outputs": [],
      "source": [
        "import matplotlib.pyplot as plt\n",
        "\n",
        "loyola = load_and_prep_image(\"/content/drive/MyDrive/ZavrssniRad/train/3/PXL_20220805_182752000.jpg\",img_shape=256)\n",
        "plt.imshow(loyola)\n",
        "\n",
        "model.predict(tf.expand_dims(loyola,0)).argmax()"
      ]
    },
    {
      "cell_type": "code",
      "execution_count": null,
      "metadata": {
        "id": "f4lAxah5eIhT"
      },
      "outputs": [],
      "source": [
        "# from keras.models import load_model\n",
        "\n",
        "# model.save('statue-recognizer.tf')\n",
        "# !zip -r /content/statue-recognizer.zip /content/statue-recognizer.tf"
      ]
    },
    {
      "cell_type": "code",
      "execution_count": null,
      "metadata": {
        "id": "adcYZI34DPuh"
      },
      "outputs": [],
      "source": [
        "# from google.colab import files\n",
        "# files.download(\"/content/statue-recognizer.zip\")"
      ]
    },
    {
      "cell_type": "code",
      "execution_count": null,
      "metadata": {
        "id": "qj4XflaCgCuM"
      },
      "outputs": [],
      "source": [
        "# # Convert the model\n",
        "# converter = tf.lite.TFLiteConverter.from_keras_model(model) # path to the SavedModel directory\n",
        "# tflite_model = converter.convert()\n",
        "\n",
        "# # Save the model.\n",
        "# with open('statue-recognizerv01.tflite', 'wb') as f:\n",
        "#   f.write(tflite_model)"
      ]
    }
  ],
  "metadata": {
    "colab": {
      "collapsed_sections": [],
      "name": "Copy of FindTheStatue.ipynb",
      "provenance": [],
      "mount_file_id": "1r1diz9VJPM8dgrdc3oREDKzzT8XfYLlE",
      "authorship_tag": "ABX9TyMBZlN5ESN3q1HHqWUPfqng",
      "include_colab_link": true
    },
    "gpuClass": "standard",
    "kernelspec": {
      "display_name": "Python 3",
      "name": "python3"
    },
    "language_info": {
      "name": "python"
    }
  },
  "nbformat": 4,
  "nbformat_minor": 0
}